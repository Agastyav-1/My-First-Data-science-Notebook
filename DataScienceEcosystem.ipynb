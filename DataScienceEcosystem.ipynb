{
 "cells": [
  {
   "cell_type": "markdown",
   "id": "61b299e4-e985-4914-9a88-e29c5ff87131",
   "metadata": {},
   "source": [
    "# Data Science Tools and Ecosystem"
   ]
  },
  {
   "cell_type": "markdown",
   "id": "3b62d2c7-287c-4f66-97cf-5906a8442644",
   "metadata": {},
   "source": [
    "In this notebook, Data Science Tools and Ecosystem are summarized."
   ]
  },
  {
   "cell_type": "markdown",
   "id": "d7146b1b-66e0-4c32-a002-fca0317ec48a",
   "metadata": {},
   "source": [
    "**Objectives:**\n",
    "- List popular languages for Data Science\n",
    "- List commonly used data science libraries\n",
    "- Few exampls of arithmetic expressions\n",
    "- Few data science tools"
   ]
  },
  {
   "cell_type": "markdown",
   "id": "e9a6c682-1f24-4a8c-a767-7830d60013e5",
   "metadata": {},
   "source": [
    "Some of the popular languages that Data Scientists use are:\n",
    "1. Python\n",
    "2. R\n",
    "3. SQL\n",
    "4. SAS"
   ]
  },
  {
   "cell_type": "markdown",
   "id": "5295fcbb-5103-4396-83af-67943a4b0f0d",
   "metadata": {},
   "source": [
    "Some of the commonly used libraries used by Data Scientists include:\n",
    "1. Pandas\n",
    "2. Numpy\n",
    "3. matplotlib\n",
    "4. pytorch\n",
    "5. TenserFlow"
   ]
  },
  {
   "cell_type": "markdown",
   "id": "026b0ace-8767-44ff-8ae3-a05ee017718b",
   "metadata": {},
   "source": [
    "| Data Science Tools|\n",
    "---------------------\n",
    "| Apache Hadoop     |\n",
    "| Apache Spark      |\n",
    "| Jupyter Notebook  |\n",
    "| Anaconda          |"
   ]
  },
  {
   "cell_type": "markdown",
   "id": "ffe4d02d-de60-415e-a9c3-99f09b1c50a2",
   "metadata": {},
   "source": [
    "### Below are a few examples of evaluating arithmetic expressions in Python"
   ]
  },
  {
   "cell_type": "code",
   "execution_count": 16,
   "id": "8e522a5a-1268-4ad6-ad24-887d504bbb73",
   "metadata": {},
   "outputs": [
    {
     "data": {
      "text/plain": [
       "17"
      ]
     },
     "execution_count": 16,
     "metadata": {},
     "output_type": "execute_result"
    }
   ],
   "source": [
    "#This a simple arithmetic expression to mutiply then add integers\n",
    "(3*4)+5"
   ]
  },
  {
   "cell_type": "code",
   "execution_count": 30,
   "id": "4598be0f-6a54-4894-aa36-cc2f0faf3218",
   "metadata": {},
   "outputs": [
    {
     "name": "stdout",
     "output_type": "stream",
     "text": [
      "20\n"
     ]
    }
   ],
   "source": [
    "#This will convert 200 minutes to hours by diving by 60\n",
    "minutes = 200\n",
    "hour = 60\n",
    "number_of_hours = minutes%hour\n",
    "print(number_of_hours)"
   ]
  },
  {
   "cell_type": "markdown",
   "id": "74b80a82-94de-4bc5-9626-a53a1e762c43",
   "metadata": {},
   "source": [
    "## Author\n",
    "Agastya Valambatla"
   ]
  },
  {
   "cell_type": "code",
   "execution_count": null,
   "id": "bfc94bbc-b98f-4ba9-8cd0-712f1093c3d8",
   "metadata": {},
   "outputs": [],
   "source": []
  }
 ],
 "metadata": {
  "kernelspec": {
   "display_name": "Python 3 (ipykernel)",
   "language": "python",
   "name": "python3"
  },
  "language_info": {
   "codemirror_mode": {
    "name": "ipython",
    "version": 3
   },
   "file_extension": ".py",
   "mimetype": "text/x-python",
   "name": "python",
   "nbconvert_exporter": "python",
   "pygments_lexer": "ipython3",
   "version": "3.12.4"
  }
 },
 "nbformat": 4,
 "nbformat_minor": 5
}
